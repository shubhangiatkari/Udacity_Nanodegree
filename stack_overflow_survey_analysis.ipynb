{
 "cells": [
  {
   "cell_type": "markdown",
   "id": "afff1315",
   "metadata": {},
   "source": [
    "### Business Understanding\n",
    "As work from home is becoming more and more popular for developers, I am interested in using a data analysis approach to know more about this topic. I hope to use the analysis results to provide some useful information to developers who are looking for a work from home position. The key questions I would like to answer are:\n",
    "\n",
    "1. Which countries embrace work from home most?\n",
    "2. Does Work From Home impact job satisfication?\n",
    "3. How to find a work from home developer job?\n",
    "\n",
    "### Data Understanding\n",
    "\n",
    "The data used in this analysi was Stack Overflow’s developer survey data from 2017. Respondents from about 200 countries gave their answers to about 150 survey questions. This notebook attempted to use the survey questions related to the topic of work from home to answer the three questions listed in the Business Understanding section.\n",
    "\n",
    "#### Gather Data\n",
    "Data has been gathered by Stack Overflow survey. The following cells import necessary Python libraries, and read them into Pandas Dataframe."
   ]
  },
  {
   "cell_type": "code",
   "execution_count": 9,
   "id": "848dcb4a",
   "metadata": {},
   "outputs": [],
   "source": [
    "#Importing necessary libaries\n",
    "import numpy as np\n",
    "import pandas as pd\n",
    "import matplotlib.pyplot as plt\n",
    "import seaborn as sns\n",
    "from sklearn.model_selection import train_test_split\n",
    "from sklearn.metrics import accuracy_score\n",
    "from sklearn.linear_model import LogisticRegression\n",
    "from sklearn import tree\n",
    "%matplotlib inline"
   ]
  },
  {
   "cell_type": "code",
   "execution_count": 12,
   "id": "b1cbbf46",
   "metadata": {},
   "outputs": [],
   "source": [
    "#Read schema data\n",
    "df_info = pd.read_csv(\"C:\\Dataset\\stack-overflow-developer-survey-2017\\\\survey_results_schema.csv\")"
   ]
  },
  {
   "cell_type": "code",
   "execution_count": 13,
   "id": "4467a6d6",
   "metadata": {},
   "outputs": [],
   "source": [
    "#Read survey data\n",
    "df = pd.read_csv(\"C:\\Dataset\\stack-overflow-developer-survey-2017\\\\survey_results_public.csv\")"
   ]
  },
  {
   "cell_type": "markdown",
   "id": "0d13c727",
   "metadata": {},
   "source": [
    "Assess Data\n",
    "The following cells checks number of columns, missing values, etc to better understand the data we have."
   ]
  },
  {
   "cell_type": "code",
   "execution_count": 14,
   "id": "8810532c",
   "metadata": {},
   "outputs": [
    {
     "data": {
      "text/html": [
       "<div>\n",
       "<style scoped>\n",
       "    .dataframe tbody tr th:only-of-type {\n",
       "        vertical-align: middle;\n",
       "    }\n",
       "\n",
       "    .dataframe tbody tr th {\n",
       "        vertical-align: top;\n",
       "    }\n",
       "\n",
       "    .dataframe thead th {\n",
       "        text-align: right;\n",
       "    }\n",
       "</style>\n",
       "<table border=\"1\" class=\"dataframe\">\n",
       "  <thead>\n",
       "    <tr style=\"text-align: right;\">\n",
       "      <th></th>\n",
       "      <th>Column</th>\n",
       "      <th>Question</th>\n",
       "    </tr>\n",
       "  </thead>\n",
       "  <tbody>\n",
       "    <tr>\n",
       "      <th>0</th>\n",
       "      <td>Respondent</td>\n",
       "      <td>Respondent ID number</td>\n",
       "    </tr>\n",
       "    <tr>\n",
       "      <th>1</th>\n",
       "      <td>Professional</td>\n",
       "      <td>Which of the following best describes you?</td>\n",
       "    </tr>\n",
       "    <tr>\n",
       "      <th>2</th>\n",
       "      <td>ProgramHobby</td>\n",
       "      <td>Do you program as a hobby or contribute to ope...</td>\n",
       "    </tr>\n",
       "    <tr>\n",
       "      <th>3</th>\n",
       "      <td>Country</td>\n",
       "      <td>In which country do you currently live?</td>\n",
       "    </tr>\n",
       "    <tr>\n",
       "      <th>4</th>\n",
       "      <td>University</td>\n",
       "      <td>Are you currently enrolled in a formal, degree...</td>\n",
       "    </tr>\n",
       "  </tbody>\n",
       "</table>\n",
       "</div>"
      ],
      "text/plain": [
       "         Column                                           Question\n",
       "0    Respondent                               Respondent ID number\n",
       "1  Professional         Which of the following best describes you?\n",
       "2  ProgramHobby  Do you program as a hobby or contribute to ope...\n",
       "3       Country            In which country do you currently live?\n",
       "4    University  Are you currently enrolled in a formal, degree..."
      ]
     },
     "execution_count": 14,
     "metadata": {},
     "output_type": "execute_result"
    }
   ],
   "source": [
    "#Take a look at the schema data\n",
    "df_info.head()"
   ]
  },
  {
   "cell_type": "code",
   "execution_count": 15,
   "id": "14c7f733",
   "metadata": {},
   "outputs": [
    {
     "data": {
      "text/html": [
       "<div>\n",
       "<style scoped>\n",
       "    .dataframe tbody tr th:only-of-type {\n",
       "        vertical-align: middle;\n",
       "    }\n",
       "\n",
       "    .dataframe tbody tr th {\n",
       "        vertical-align: top;\n",
       "    }\n",
       "\n",
       "    .dataframe thead th {\n",
       "        text-align: right;\n",
       "    }\n",
       "</style>\n",
       "<table border=\"1\" class=\"dataframe\">\n",
       "  <thead>\n",
       "    <tr style=\"text-align: right;\">\n",
       "      <th></th>\n",
       "      <th>Respondent</th>\n",
       "      <th>Professional</th>\n",
       "      <th>ProgramHobby</th>\n",
       "      <th>Country</th>\n",
       "      <th>University</th>\n",
       "      <th>EmploymentStatus</th>\n",
       "      <th>FormalEducation</th>\n",
       "      <th>MajorUndergrad</th>\n",
       "      <th>HomeRemote</th>\n",
       "      <th>CompanySize</th>\n",
       "      <th>...</th>\n",
       "      <th>StackOverflowMakeMoney</th>\n",
       "      <th>Gender</th>\n",
       "      <th>HighestEducationParents</th>\n",
       "      <th>Race</th>\n",
       "      <th>SurveyLong</th>\n",
       "      <th>QuestionsInteresting</th>\n",
       "      <th>QuestionsConfusing</th>\n",
       "      <th>InterestedAnswers</th>\n",
       "      <th>Salary</th>\n",
       "      <th>ExpectedSalary</th>\n",
       "    </tr>\n",
       "  </thead>\n",
       "  <tbody>\n",
       "    <tr>\n",
       "      <th>0</th>\n",
       "      <td>1</td>\n",
       "      <td>Student</td>\n",
       "      <td>Yes, both</td>\n",
       "      <td>United States</td>\n",
       "      <td>No</td>\n",
       "      <td>Not employed, and not looking for work</td>\n",
       "      <td>Secondary school</td>\n",
       "      <td>NaN</td>\n",
       "      <td>NaN</td>\n",
       "      <td>NaN</td>\n",
       "      <td>...</td>\n",
       "      <td>Strongly disagree</td>\n",
       "      <td>Male</td>\n",
       "      <td>High school</td>\n",
       "      <td>White or of European descent</td>\n",
       "      <td>Strongly disagree</td>\n",
       "      <td>Strongly agree</td>\n",
       "      <td>Disagree</td>\n",
       "      <td>Strongly agree</td>\n",
       "      <td>NaN</td>\n",
       "      <td>NaN</td>\n",
       "    </tr>\n",
       "    <tr>\n",
       "      <th>1</th>\n",
       "      <td>2</td>\n",
       "      <td>Student</td>\n",
       "      <td>Yes, both</td>\n",
       "      <td>United Kingdom</td>\n",
       "      <td>Yes, full-time</td>\n",
       "      <td>Employed part-time</td>\n",
       "      <td>Some college/university study without earning ...</td>\n",
       "      <td>Computer science or software engineering</td>\n",
       "      <td>More than half, but not all, the time</td>\n",
       "      <td>20 to 99 employees</td>\n",
       "      <td>...</td>\n",
       "      <td>Strongly disagree</td>\n",
       "      <td>Male</td>\n",
       "      <td>A master's degree</td>\n",
       "      <td>White or of European descent</td>\n",
       "      <td>Somewhat agree</td>\n",
       "      <td>Somewhat agree</td>\n",
       "      <td>Disagree</td>\n",
       "      <td>Strongly agree</td>\n",
       "      <td>NaN</td>\n",
       "      <td>37500.0</td>\n",
       "    </tr>\n",
       "    <tr>\n",
       "      <th>2</th>\n",
       "      <td>3</td>\n",
       "      <td>Professional developer</td>\n",
       "      <td>Yes, both</td>\n",
       "      <td>United Kingdom</td>\n",
       "      <td>No</td>\n",
       "      <td>Employed full-time</td>\n",
       "      <td>Bachelor's degree</td>\n",
       "      <td>Computer science or software engineering</td>\n",
       "      <td>Less than half the time, but at least one day ...</td>\n",
       "      <td>10,000 or more employees</td>\n",
       "      <td>...</td>\n",
       "      <td>Disagree</td>\n",
       "      <td>Male</td>\n",
       "      <td>A professional degree</td>\n",
       "      <td>White or of European descent</td>\n",
       "      <td>Somewhat agree</td>\n",
       "      <td>Agree</td>\n",
       "      <td>Disagree</td>\n",
       "      <td>Agree</td>\n",
       "      <td>113750.0</td>\n",
       "      <td>NaN</td>\n",
       "    </tr>\n",
       "    <tr>\n",
       "      <th>3</th>\n",
       "      <td>4</td>\n",
       "      <td>Professional non-developer who sometimes write...</td>\n",
       "      <td>Yes, both</td>\n",
       "      <td>United States</td>\n",
       "      <td>No</td>\n",
       "      <td>Employed full-time</td>\n",
       "      <td>Doctoral degree</td>\n",
       "      <td>A non-computer-focused engineering discipline</td>\n",
       "      <td>Less than half the time, but at least one day ...</td>\n",
       "      <td>10,000 or more employees</td>\n",
       "      <td>...</td>\n",
       "      <td>Disagree</td>\n",
       "      <td>Male</td>\n",
       "      <td>A doctoral degree</td>\n",
       "      <td>White or of European descent</td>\n",
       "      <td>Agree</td>\n",
       "      <td>Agree</td>\n",
       "      <td>Somewhat agree</td>\n",
       "      <td>Strongly agree</td>\n",
       "      <td>NaN</td>\n",
       "      <td>NaN</td>\n",
       "    </tr>\n",
       "    <tr>\n",
       "      <th>4</th>\n",
       "      <td>5</td>\n",
       "      <td>Professional developer</td>\n",
       "      <td>Yes, I program as a hobby</td>\n",
       "      <td>Switzerland</td>\n",
       "      <td>No</td>\n",
       "      <td>Employed full-time</td>\n",
       "      <td>Master's degree</td>\n",
       "      <td>Computer science or software engineering</td>\n",
       "      <td>Never</td>\n",
       "      <td>10 to 19 employees</td>\n",
       "      <td>...</td>\n",
       "      <td>NaN</td>\n",
       "      <td>NaN</td>\n",
       "      <td>NaN</td>\n",
       "      <td>NaN</td>\n",
       "      <td>NaN</td>\n",
       "      <td>NaN</td>\n",
       "      <td>NaN</td>\n",
       "      <td>NaN</td>\n",
       "      <td>NaN</td>\n",
       "      <td>NaN</td>\n",
       "    </tr>\n",
       "  </tbody>\n",
       "</table>\n",
       "<p>5 rows × 154 columns</p>\n",
       "</div>"
      ],
      "text/plain": [
       "   Respondent                                       Professional  \\\n",
       "0           1                                            Student   \n",
       "1           2                                            Student   \n",
       "2           3                             Professional developer   \n",
       "3           4  Professional non-developer who sometimes write...   \n",
       "4           5                             Professional developer   \n",
       "\n",
       "                ProgramHobby         Country      University  \\\n",
       "0                  Yes, both   United States              No   \n",
       "1                  Yes, both  United Kingdom  Yes, full-time   \n",
       "2                  Yes, both  United Kingdom              No   \n",
       "3                  Yes, both   United States              No   \n",
       "4  Yes, I program as a hobby     Switzerland              No   \n",
       "\n",
       "                         EmploymentStatus  \\\n",
       "0  Not employed, and not looking for work   \n",
       "1                      Employed part-time   \n",
       "2                      Employed full-time   \n",
       "3                      Employed full-time   \n",
       "4                      Employed full-time   \n",
       "\n",
       "                                     FormalEducation  \\\n",
       "0                                   Secondary school   \n",
       "1  Some college/university study without earning ...   \n",
       "2                                  Bachelor's degree   \n",
       "3                                    Doctoral degree   \n",
       "4                                    Master's degree   \n",
       "\n",
       "                                  MajorUndergrad  \\\n",
       "0                                            NaN   \n",
       "1       Computer science or software engineering   \n",
       "2       Computer science or software engineering   \n",
       "3  A non-computer-focused engineering discipline   \n",
       "4       Computer science or software engineering   \n",
       "\n",
       "                                          HomeRemote  \\\n",
       "0                                                NaN   \n",
       "1              More than half, but not all, the time   \n",
       "2  Less than half the time, but at least one day ...   \n",
       "3  Less than half the time, but at least one day ...   \n",
       "4                                              Never   \n",
       "\n",
       "                CompanySize  ... StackOverflowMakeMoney Gender  \\\n",
       "0                       NaN  ...      Strongly disagree   Male   \n",
       "1        20 to 99 employees  ...      Strongly disagree   Male   \n",
       "2  10,000 or more employees  ...               Disagree   Male   \n",
       "3  10,000 or more employees  ...               Disagree   Male   \n",
       "4        10 to 19 employees  ...                    NaN    NaN   \n",
       "\n",
       "  HighestEducationParents                          Race         SurveyLong  \\\n",
       "0             High school  White or of European descent  Strongly disagree   \n",
       "1       A master's degree  White or of European descent     Somewhat agree   \n",
       "2   A professional degree  White or of European descent     Somewhat agree   \n",
       "3       A doctoral degree  White or of European descent              Agree   \n",
       "4                     NaN                           NaN                NaN   \n",
       "\n",
       "  QuestionsInteresting QuestionsConfusing InterestedAnswers    Salary  \\\n",
       "0       Strongly agree           Disagree    Strongly agree       NaN   \n",
       "1       Somewhat agree           Disagree    Strongly agree       NaN   \n",
       "2                Agree           Disagree             Agree  113750.0   \n",
       "3                Agree     Somewhat agree    Strongly agree       NaN   \n",
       "4                  NaN                NaN               NaN       NaN   \n",
       "\n",
       "   ExpectedSalary  \n",
       "0             NaN  \n",
       "1         37500.0  \n",
       "2             NaN  \n",
       "3             NaN  \n",
       "4             NaN  \n",
       "\n",
       "[5 rows x 154 columns]"
      ]
     },
     "execution_count": 15,
     "metadata": {},
     "output_type": "execute_result"
    }
   ],
   "source": [
    "#Take a look at the survey data\n",
    "df.head()"
   ]
  },
  {
   "cell_type": "code",
   "execution_count": 16,
   "id": "37b1947a",
   "metadata": {},
   "outputs": [
    {
     "data": {
      "text/html": [
       "<div>\n",
       "<style scoped>\n",
       "    .dataframe tbody tr th:only-of-type {\n",
       "        vertical-align: middle;\n",
       "    }\n",
       "\n",
       "    .dataframe tbody tr th {\n",
       "        vertical-align: top;\n",
       "    }\n",
       "\n",
       "    .dataframe thead th {\n",
       "        text-align: right;\n",
       "    }\n",
       "</style>\n",
       "<table border=\"1\" class=\"dataframe\">\n",
       "  <thead>\n",
       "    <tr style=\"text-align: right;\">\n",
       "      <th></th>\n",
       "      <th>Respondent</th>\n",
       "      <th>CareerSatisfaction</th>\n",
       "      <th>JobSatisfaction</th>\n",
       "      <th>HoursPerWeek</th>\n",
       "      <th>StackOverflowSatisfaction</th>\n",
       "      <th>Salary</th>\n",
       "      <th>ExpectedSalary</th>\n",
       "    </tr>\n",
       "  </thead>\n",
       "  <tbody>\n",
       "    <tr>\n",
       "      <th>count</th>\n",
       "      <td>51392.000000</td>\n",
       "      <td>42695.000000</td>\n",
       "      <td>40376.000000</td>\n",
       "      <td>20600.000000</td>\n",
       "      <td>36592.000000</td>\n",
       "      <td>12891.000000</td>\n",
       "      <td>2566.000000</td>\n",
       "    </tr>\n",
       "    <tr>\n",
       "      <th>mean</th>\n",
       "      <td>25696.500000</td>\n",
       "      <td>7.300574</td>\n",
       "      <td>6.957078</td>\n",
       "      <td>3.952282</td>\n",
       "      <td>8.429875</td>\n",
       "      <td>56298.480641</td>\n",
       "      <td>33142.220468</td>\n",
       "    </tr>\n",
       "    <tr>\n",
       "      <th>std</th>\n",
       "      <td>14835.736854</td>\n",
       "      <td>1.955444</td>\n",
       "      <td>2.167652</td>\n",
       "      <td>7.564722</td>\n",
       "      <td>1.390635</td>\n",
       "      <td>39880.905277</td>\n",
       "      <td>30162.988829</td>\n",
       "    </tr>\n",
       "    <tr>\n",
       "      <th>min</th>\n",
       "      <td>1.000000</td>\n",
       "      <td>0.000000</td>\n",
       "      <td>0.000000</td>\n",
       "      <td>0.000000</td>\n",
       "      <td>0.000000</td>\n",
       "      <td>0.000000</td>\n",
       "      <td>0.000000</td>\n",
       "    </tr>\n",
       "    <tr>\n",
       "      <th>25%</th>\n",
       "      <td>12848.750000</td>\n",
       "      <td>6.000000</td>\n",
       "      <td>6.000000</td>\n",
       "      <td>1.000000</td>\n",
       "      <td>8.000000</td>\n",
       "      <td>26440.371839</td>\n",
       "      <td>4490.492484</td>\n",
       "    </tr>\n",
       "    <tr>\n",
       "      <th>50%</th>\n",
       "      <td>25696.500000</td>\n",
       "      <td>8.000000</td>\n",
       "      <td>7.000000</td>\n",
       "      <td>1.000000</td>\n",
       "      <td>9.000000</td>\n",
       "      <td>50000.000000</td>\n",
       "      <td>29364.263691</td>\n",
       "    </tr>\n",
       "    <tr>\n",
       "      <th>75%</th>\n",
       "      <td>38544.250000</td>\n",
       "      <td>9.000000</td>\n",
       "      <td>8.000000</td>\n",
       "      <td>4.000000</td>\n",
       "      <td>10.000000</td>\n",
       "      <td>80000.000000</td>\n",
       "      <td>50403.225806</td>\n",
       "    </tr>\n",
       "    <tr>\n",
       "      <th>max</th>\n",
       "      <td>51392.000000</td>\n",
       "      <td>10.000000</td>\n",
       "      <td>10.000000</td>\n",
       "      <td>40.000000</td>\n",
       "      <td>10.000000</td>\n",
       "      <td>197000.000000</td>\n",
       "      <td>187500.000000</td>\n",
       "    </tr>\n",
       "  </tbody>\n",
       "</table>\n",
       "</div>"
      ],
      "text/plain": [
       "         Respondent  CareerSatisfaction  JobSatisfaction  HoursPerWeek  \\\n",
       "count  51392.000000        42695.000000     40376.000000  20600.000000   \n",
       "mean   25696.500000            7.300574         6.957078      3.952282   \n",
       "std    14835.736854            1.955444         2.167652      7.564722   \n",
       "min        1.000000            0.000000         0.000000      0.000000   \n",
       "25%    12848.750000            6.000000         6.000000      1.000000   \n",
       "50%    25696.500000            8.000000         7.000000      1.000000   \n",
       "75%    38544.250000            9.000000         8.000000      4.000000   \n",
       "max    51392.000000           10.000000        10.000000     40.000000   \n",
       "\n",
       "       StackOverflowSatisfaction         Salary  ExpectedSalary  \n",
       "count               36592.000000   12891.000000     2566.000000  \n",
       "mean                    8.429875   56298.480641    33142.220468  \n",
       "std                     1.390635   39880.905277    30162.988829  \n",
       "min                     0.000000       0.000000        0.000000  \n",
       "25%                     8.000000   26440.371839     4490.492484  \n",
       "50%                     9.000000   50000.000000    29364.263691  \n",
       "75%                    10.000000   80000.000000    50403.225806  \n",
       "max                    10.000000  197000.000000   187500.000000  "
      ]
     },
     "execution_count": 16,
     "metadata": {},
     "output_type": "execute_result"
    }
   ],
   "source": [
    "df.describe()"
   ]
  },
  {
   "cell_type": "code",
   "execution_count": 17,
   "id": "5915f7c0",
   "metadata": {},
   "outputs": [
    {
     "data": {
      "text/plain": [
       "Respondent                  0\n",
       "Professional                0\n",
       "ProgramHobby                0\n",
       "Country                     0\n",
       "University                  0\n",
       "                        ...  \n",
       "QuestionsInteresting    16856\n",
       "QuestionsConfusing      16973\n",
       "InterestedAnswers       16780\n",
       "Salary                  38501\n",
       "ExpectedSalary          48826\n",
       "Length: 154, dtype: int64"
      ]
     },
     "execution_count": 17,
     "metadata": {},
     "output_type": "execute_result"
    }
   ],
   "source": [
    "df.isnull().sum()"
   ]
  },
  {
   "cell_type": "markdown",
   "id": "49ea86d9",
   "metadata": {},
   "source": [
    "## After exploring the data, I decided to user these columns to answer the three questions:\n",
    "\n",
    "- HomeRemote\n",
    "- Country\n",
    "- JobSatisfaction\n",
    "- CompanySize\n",
    "- CompanyType\n",
    "- JobSecurity\n",
    "- SeriousWork\n",
    "- HoursPerWeek\n",
    "- DifficultCommunication\n",
    "- CollaborateRemote\n",
    "- EmploymentStatus\n",
    "\n",
    "\n",
    "\n",
    "## 1. Which countries embrace work from home most?\n",
    "To answer this question, I will\n",
    "\n",
    "Look at HomeRemote and Country column\n",
    "Calculate the proporition of work from home respondents for each country\n",
    "Create a bar plot to show the results\n",
    "### Prepare Data for Question 1\n",
    "The following cells prepare data to answer the first question. The data are cleaned, missing values are handled, and new feature columns are derived.\n",
    "\n",
    "1.There is no missing value in Country column.\n",
    "2.A new column WorkFromHome is created based on a categorical variable HomeRemote using the following logic:\n",
    "True: \"About half the time\", \"All or almost all the time (I'm full-time remote)\",\"More than half, but not all, the time\", \"Less than half the time, but at least one day each week\"\n",
    "\n",
    "False: 'Never', 'A few days each month', or missing values"
   ]
  },
  {
   "cell_type": "code",
   "execution_count": 19,
   "id": "ef78d035",
   "metadata": {},
   "outputs": [
    {
     "data": {
      "image/png": "[encoded data removed]",
      "text/plain": [
       "<Figure size 432x288 with 1 Axes>"
      ]
     },
     "metadata": {
      "needs_background": "light"
     },
     "output_type": "display_data"
    }
   ],
   "source": [
    "sns.countplot(data = df, y = 'HomeRemote', color=sns.color_palette()[0]);"
   ]
  },
  {
   "cell_type": "code",
   "execution_count": 20,
   "id": "60d27679",
   "metadata": {},
   "outputs": [],
   "source": [
    "#Drop the row if it has NaN in HomeRemote or Country column\n",
    "df_wfh = df.dropna(axis=0, subset=['Country', \"HomeRemote\"])"
   ]
  },
  {
   "cell_type": "code",
   "execution_count": 21,
   "id": "936c9129",
   "metadata": {},
   "outputs": [
    {
     "data": {
      "text/plain": [
       "(44008, 154)"
      ]
     },
     "execution_count": 21,
     "metadata": {},
     "output_type": "execute_result"
    }
   ],
   "source": [
    "df_wfh.shape"
   ]
  },
  {
   "cell_type": "code",
   "execution_count": 22,
   "id": "b185d9fb",
   "metadata": {},
   "outputs": [],
   "source": [
    "#Drop the row if it has It's complicated in HomeRemote\n",
    "df_wfh = df_wfh[df_wfh['HomeRemote'] != \"It's complicated\"]"
   ]
  },
  {
   "cell_type": "code",
   "execution_count": 23,
   "id": "b8dab7d5",
   "metadata": {},
   "outputs": [
    {
     "data": {
      "text/plain": [
       "array(['More than half, but not all, the time',\n",
       "       'Less than half the time, but at least one day each week', 'Never',\n",
       "       \"All or almost all the time (I'm full-time remote)\",\n",
       "       'A few days each month', 'About half the time'], dtype=object)"
      ]
     },
     "execution_count": 23,
     "metadata": {},
     "output_type": "execute_result"
    }
   ],
   "source": [
    "df_wfh['HomeRemote'].unique()"
   ]
  },
  {
   "cell_type": "code",
   "execution_count": 24,
   "id": "b09716f2",
   "metadata": {},
   "outputs": [],
   "source": [
    "#Drop the rows if the country has less than 300 respondents\n",
    "country_count = df_wfh['Country'].value_counts()\n",
    "country_count = country_count[country_count>=300]\n",
    "country_keep = list(country_count.index)"
   ]
  },
  {
   "cell_type": "code",
   "execution_count": 25,
   "id": "efd7ded5",
   "metadata": {},
   "outputs": [],
   "source": [
    "df_wfh = df_wfh[df_wfh['Country'].isin(country_keep)]"
   ]
  },
  {
   "cell_type": "code",
   "execution_count": 26,
   "id": "dd0a9013",
   "metadata": {},
   "outputs": [],
   "source": [
    "#Add a new column to indicate whether the respondent work from home\n",
    "df_wfh['WorkFromHome'] =  df_wfh['HomeRemote'].isin (['About half the time', \n",
    "                                                     \"All or almost all the time (I'm full-time remote)\",\n",
    "                                                     \"More than half, but not all, the time\",\n",
    "                                                     \"Less than half the time, but at least one day each week\"])"
   ]
  },
  {
   "cell_type": "markdown",
   "id": "5899b199",
   "metadata": {},
   "source": [
    "Model/Analyze Data for Question 1\n",
    "The proporition of respondents who work from home is calculated for each country. The results are sorted in descending order, so that the countries with highest proportion of work from home developers are at the top of the list."
   ]
  },
  {
   "cell_type": "code",
   "execution_count": 27,
   "id": "5c6b7607",
   "metadata": {},
   "outputs": [],
   "source": [
    "country_wfh = df_wfh.groupby(['Country'])['WorkFromHome'].mean().sort_values(ascending = False)"
   ]
  },
  {
   "cell_type": "markdown",
   "id": "ad61a0e3",
   "metadata": {},
   "source": [
    "### Visualize Results for Question 1\n",
    "A bar chart is generated based on the analysis results."
   ]
  },
  {
   "cell_type": "code",
   "execution_count": 28,
   "id": "9391752e",
   "metadata": {},
   "outputs": [
    {
     "data": {
      "image/png": "[encoded data removed]",
      "text/plain": [
       "<Figure size 720x1080 with 1 Axes>"
      ]
     },
     "metadata": {
      "needs_background": "light"
     },
     "output_type": "display_data"
    }
   ],
   "source": [
    "plt.figure(figsize=[10,15])\n",
    "sns.barplot(y=country_wfh.index, x=country_wfh, color=sns.color_palette()[0])\n",
    "plt.title(\"Proportion of Remote Employees vs. Country\");"
   ]
  },
  {
   "cell_type": "code",
   "execution_count": 29,
   "id": "a8526da3",
   "metadata": {},
   "outputs": [
    {
     "data": {
      "text/plain": [
       "0.28938963284203123"
      ]
     },
     "execution_count": 29,
     "metadata": {},
     "output_type": "execute_result"
    }
   ],
   "source": [
    "df_wfh['WorkFromHome'].mean()"
   ]
  },
  {
   "cell_type": "markdown",
   "id": "c8550689",
   "metadata": {},
   "source": [
    "### Conclusion for question 1\n",
    "Work from home is more popular for developers in these countries: Iran, Pakistan, Czech Replubic, Ukraine, and Russian Federation.\n",
    "\n",
    "## 2. Does Work From Home impact job satisfication?\n",
    "To answer this question, I will\n",
    "\n",
    "- Look at WokFromHome and JobSatisfaction column\n",
    "- Perform hypothesis test for the two groups, i.e. work from home and not work from home, on the average Job Satisfaction score.\n",
    "### Prepare Data for Question 2\n",
    "The following cells prepare data to answer the second question. The data are cleaned, and missing values are handled.\n",
    "\n",
    "- Missing values in JobSatisfaction are dropped from analysis, because analyzing the Job Satisfaction Rating different is the main purpose of this part of analysis. Keeping the missing values or imputing them does not make a lot of sense.\n",
    "- The WorkFromHome created in Question 1 is used to separate the data into two groups."
   ]
  },
  {
   "cell_type": "code",
   "execution_count": 30,
   "id": "23a3bff7",
   "metadata": {},
   "outputs": [
    {
     "data": {
      "text/plain": [
       "6.997317322432294"
      ]
     },
     "execution_count": 30,
     "metadata": {},
     "output_type": "execute_result"
    }
   ],
   "source": [
    "# Drop rows with nan values in JobSatisfaction column\n",
    "df_wfh_js = df_wfh.dropna(subset=['JobSatisfaction'])\n",
    "df_wfh_js = df_wfh_js[['Respondent','JobSatisfaction', 'WorkFromHome']]\n",
    "df_wfh_js['JobSatisfaction'].mean()"
   ]
  },
  {
   "cell_type": "code",
   "execution_count": 31,
   "id": "f0390c31",
   "metadata": {},
   "outputs": [
    {
     "data": {
      "text/plain": [
       "8810"
      ]
     },
     "execution_count": 31,
     "metadata": {},
     "output_type": "execute_result"
    }
   ],
   "source": [
    "6.997317322432294\n",
    "# Number of work from home developers\n",
    "len(df_wfh_js[df_wfh_js['WorkFromHome']==1])"
   ]
  },
  {
   "cell_type": "code",
   "execution_count": 32,
   "id": "73cf77aa",
   "metadata": {},
   "outputs": [
    {
     "data": {
      "text/plain": [
       "22502"
      ]
     },
     "execution_count": 32,
     "metadata": {},
     "output_type": "execute_result"
    }
   ],
   "source": [
    "# Number of non work from home developers\n",
    "len(df_wfh_js[df_wfh_js['WorkFromHome']==0])"
   ]
  },
  {
   "cell_type": "code",
   "execution_count": 33,
   "id": "688c37a4",
   "metadata": {},
   "outputs": [
    {
     "data": {
      "text/plain": [
       "array([ 9.,  3.,  8.,  6.,  7.,  5.,  4., 10.,  2.,  0.,  1.])"
      ]
     },
     "execution_count": 33,
     "metadata": {},
     "output_type": "execute_result"
    }
   ],
   "source": [
    "df_wfh_js['JobSatisfaction'].unique()"
   ]
  },
  {
   "cell_type": "markdown",
   "id": "e2e225a4",
   "metadata": {},
   "source": [
    "### Model/Analyze Data for Question 2\n",
    "An A/B test is performed between the two groups, people who work from home and people who don’t, using the bootstrap sampling approach.\n",
    "\n",
    "#### Null Hypothesis: The average Job Satisfcation difference between the Work From Home employee and Non Work From Home is equal to zero.\n",
    "\n",
    "#### Alternative Hypothesis: There is a difference in Job Satisfcation between the two groups"
   ]
  },
  {
   "cell_type": "code",
   "execution_count": 34,
   "id": "b11546d6",
   "metadata": {},
   "outputs": [],
   "source": [
    "# Create a sampling distribution of the difference in proportions\n",
    "# with bootstrapping\n",
    "diffs = []\n",
    "size = df_wfh_js.shape[0]\n",
    "for _ in range(10000):\n",
    "    b_samp = df_wfh_js.sample(size, replace=True)\n",
    "    wfh_df = b_samp.query('WorkFromHome == 1')\n",
    "    not_wfh_df = b_samp.query('WorkFromHome == 0')\n",
    "    wfh_js = wfh_df['JobSatisfaction'].mean()\n",
    "    not_wfh_js = not_wfh_df['JobSatisfaction'].mean()\n",
    "    diffs.append(wfh_js - not_wfh_js)"
   ]
  },
  {
   "cell_type": "code",
   "execution_count": 35,
   "id": "0a6c5851",
   "metadata": {},
   "outputs": [
    {
     "data": {
      "text/plain": [
       "Text(0.5, 1.0, 'Difference in Job Satifaction Rating between Two Groups')"
      ]
     },
     "execution_count": 35,
     "metadata": {},
     "output_type": "execute_result"
    },
    {
     "data": {
      "image/png": "[encoded data removed]",
      "text/plain": [
       "<Figure size 720x576 with 1 Axes>"
      ]
     },
     "metadata": {
      "needs_background": "light"
     },
     "output_type": "display_data"
    }
   ],
   "source": [
    "# Convert to numpy array\n",
    "diffs = np.array(diffs)\n",
    "\n",
    "# Plot sampling distribution\n",
    "plt.figure(figsize=[10,8])\n",
    "plt.hist(diffs, bins=30)\n",
    "plt.title('Difference in Job Satifaction Rating between Two Groups')"
   ]
  },
  {
   "cell_type": "code",
   "execution_count": 36,
   "id": "9da3ba6c",
   "metadata": {},
   "outputs": [
    {
     "data": {
      "text/plain": [
       "(0.22150096412070233, 0.39185814974265587)"
      ]
     },
     "execution_count": 36,
     "metadata": {},
     "output_type": "execute_result"
    }
   ],
   "source": [
    "np.percentile(diffs, 0.05), np.percentile(diffs, 99.95)"
   ]
  },
  {
   "cell_type": "code",
   "execution_count": 37,
   "id": "cdf771b1",
   "metadata": {},
   "outputs": [
    {
     "data": {
      "text/plain": [
       "0.30510381610968945"
      ]
     },
     "execution_count": 37,
     "metadata": {},
     "output_type": "execute_result"
    }
   ],
   "source": [
    "diffs.mean()"
   ]
  },
  {
   "cell_type": "code",
   "execution_count": 38,
   "id": "0c043b63",
   "metadata": {},
   "outputs": [],
   "source": [
    "# Calculate the observed difference on average Job Satisfaction rating between the two groups\n",
    "js_wfh = df_wfh_js.query('WorkFromHome == 1')['JobSatisfaction'].mean()\n",
    "js_not_wfh = df_wfh_js.query('WorkFromHome == 0')['JobSatisfaction'].mean()\n",
    "obs_diff = js_wfh - js_not_wfh"
   ]
  },
  {
   "cell_type": "code",
   "execution_count": 39,
   "id": "37ee2ab2",
   "metadata": {},
   "outputs": [
    {
     "data": {
      "image/png": "[encoded data removed]",
      "text/plain": [
       "<Figure size 432x288 with 1 Axes>"
      ]
     },
     "metadata": {
      "needs_background": "light"
     },
     "output_type": "display_data"
    }
   ],
   "source": [
    "# Simulate distribution under the null hypothesis\n",
    "null_vals = np.random.normal(0, diffs.std(), diffs.size)\n",
    "\n",
    "# Plot the null distribution\n",
    "plt.hist(null_vals, bins = 30);"
   ]
  },
  {
   "cell_type": "markdown",
   "id": "5d360196",
   "metadata": {},
   "source": [
    "### Visualize Results for Question 2\n",
    "A histgram of the null distribution and the observed mean of the difference is generated below to show the A/B test results."
   ]
  },
  {
   "cell_type": "code",
   "execution_count": 40,
   "id": "280d9be6",
   "metadata": {},
   "outputs": [
    {
     "data": {
      "image/png": "[encoded data removed]",
      "text/plain": [
       "<Figure size 432x288 with 1 Axes>"
      ]
     },
     "metadata": {
      "needs_background": "light"
     },
     "output_type": "display_data"
    }
   ],
   "source": [
    "# Plot observed statistic with the null distibution\n",
    "plt.hist(null_vals, bins=30)\n",
    "plt.axvline(obs_diff, c='red');"
   ]
  },
  {
   "cell_type": "code",
   "execution_count": 41,
   "id": "8047ce25",
   "metadata": {},
   "outputs": [
    {
     "data": {
      "text/plain": [
       "0.0"
      ]
     },
     "execution_count": 41,
     "metadata": {},
     "output_type": "execute_result"
    }
   ],
   "source": [
    "# Compute p-value\n",
    "(null_vals > obs_diff).mean()"
   ]
  },
  {
   "cell_type": "markdown",
   "id": "5e107539",
   "metadata": {},
   "source": [
    "### Conclusion for Question 2\n",
    "Since p-value is almost equal to 0, the null hypothesis can be rejected. It can be concluded that the average Job Satisfaction Rating of work from home employees is significantly higher than that of non work from home employees.\n",
    "\n",
    "## 3. How to find a work from home developer job?\n",
    "### Prepare Data for Question 3\n",
    "The following cells prepare data to answer the third question. The data are cleaned, and missing values are handled.\n",
    "\n",
    "1. These columns are used in analysis: 'WorkFromHome', 'Country', 'CompanySize', 'CompanyType', 'JobSecurity', 'SeriousWork', 'HoursPerWeek', 'DifficultCommunication', 'CollaborateRemote', 'EmploymentStatus'.\n",
    "2. Missing values are filled with median, because there are too many missing values and dropping all of them will signifcantly reduce data size.\n",
    "3. If missing values cannot be filled with median, then they have to be dropped, because sklearn will fail when training the model.\n",
    "4. The Categorical Variables such as 'SeriousWork' (with values \"Agree\", \"Strongly Agree\", etc) are converted to numerical values using this logic:\n",
    "\n",
    "- 'Strongly disagree': 1\n",
    "- 'Disagree': 2\n",
    "- 'Somewhat agree': 3\n",
    "- 'Agree': 4\n",
    "- 'Strongly agree': 5\n",
    "5. The Categorical Variables such as 'CompanySize'are converted to numerical values using this logic:\n",
    "\n",
    "- 'Fewer than 10 employees': 1\n",
    "- '10 to 19 employees': 2\n",
    "- '20 to 99 employees': 3,\n",
    "- '100 to 499 employees': 4,\n",
    "- '500 to 999 employees': 5,\n",
    "- '1,000 to 4,999 employees': 6,\n",
    "- '5,000 to 9,999 employees': 7,\n",
    "- '10,000 or more employees': 8,\n",
    "- \"I don't know\": np.nan,\n",
    "- 'I prefer not to answer': np.nan\n",
    "NaN values are then filled by median.\n",
    "\n",
    "6. The **Categorical Variables** such as 'CompanyType' are cleaned as follows:\n",
    "\n",
    "Values like \"I don't know\", \"I prefer not to answer\", \"Something else\" or nan are converted to \"Other\"\n",
    "Dummy columns are then created for this **Categorical Variable**\n",
    "7. Dummy columns are also created for **Categorical Variable** \"Country\".\n",
    "\n",
    "8. The entire dataset are split into training set and testing set."
   ]
  },
  {
   "cell_type": "code",
   "execution_count": 42,
   "id": "28ffe633",
   "metadata": {},
   "outputs": [],
   "source": [
    "# Only select resopondents who are currently employeed\n",
    "df_wfh = df_wfh[df_wfh['EmploymentStatus'].isin(['Employed part-time', \n",
    "                                                 'Employed full-time', \n",
    "                                                 'Independent contractor, freelancer, or self-employed'])]"
   ]
  },
  {
   "cell_type": "code",
   "execution_count": 43,
   "id": "a0302d25",
   "metadata": {},
   "outputs": [],
   "source": [
    "# It is common sense that Independent contractor, freelancer, or self-employed developers are much more likely to work from home\n",
    "df_ind = df_wfh[df_wfh['EmploymentStatus']=='Independent contractor, freelancer, or self-employed']"
   ]
  },
  {
   "cell_type": "code",
   "execution_count": 44,
   "id": "30d265d4",
   "metadata": {},
   "outputs": [],
   "source": [
    "# Exclude Independent contractor, freelancer, or self-employed from the analysis, as more than 75% of them are working from home.\n",
    "# It might hide the importance of other features\n",
    "df_wfh = df_wfh[df_wfh['EmploymentStatus'].isin(['Employed part-time', \n",
    "                                                 'Employed full-time'])]"
   ]
  },
  {
   "cell_type": "code",
   "execution_count": 45,
   "id": "f2446352",
   "metadata": {},
   "outputs": [],
   "source": [
    "# Select a subset of columns for this analysis\n",
    "df_wfh_data = df_wfh[['WorkFromHome', 'Country', 'CompanySize', 'CompanyType', \n",
    "                      'JobSecurity', 'SeriousWork', 'HoursPerWeek', 'DifficultCommunication', \n",
    "                      'CollaborateRemote', 'EmploymentStatus']]"
   ]
  },
  {
   "cell_type": "code",
   "execution_count": 46,
   "id": "a3086ee6",
   "metadata": {},
   "outputs": [],
   "source": [
    "# Converting CompanySize to numerical\n",
    "df_wfh_data = df_wfh_data.replace({'CompanySize': {'Fewer than 10 employees': 1, \n",
    "                                                   '10 to 19 employees': 2,\n",
    "                                                  '20 to 99 employees': 3,\n",
    "                                                  '100 to 499 employees': 4,\n",
    "                                                  '500 to 999 employees': 5,\n",
    "                                                  '1,000 to 4,999 employees': 6,\n",
    "                                                  '5,000 to 9,999 employees': 7,\n",
    "                                                  '10,000 or more employees': 8,\n",
    "                                                  \"I don't know\": np.nan,\n",
    "                                                  'I prefer not to answer': np.nan}})"
   ]
  },
  {
   "cell_type": "code",
   "execution_count": 47,
   "id": "c1caf847",
   "metadata": {},
   "outputs": [],
   "source": [
    "# Clean up CompanyType data\n",
    "df_wfh_data = df_wfh_data.replace({'CompanyType': {\"I don't know\": 'other',\n",
    "                                                  'I prefer not to answer': 'other',\n",
    "                                                  'Something else': 'other',\n",
    "                                                   np.nan: 'other'}})"
   ]
  },
  {
   "cell_type": "code",
   "execution_count": 48,
   "id": "55a3aa9a",
   "metadata": {},
   "outputs": [],
   "source": [
    "# Converting to numerical\n",
    "df_wfh_data = df_wfh_data.replace({'Strongly disagree': 1, \n",
    "                                   'Disagree': 2,\n",
    "                                   'Somewhat agree': 3,\n",
    "                                   'Agree': 4,\n",
    "                                   'Strongly agree': 5,})"
   ]
  },
  {
   "cell_type": "code",
   "execution_count": 49,
   "id": "1103c63e",
   "metadata": {},
   "outputs": [],
   "source": [
    "# Fill NaN with median for each column\n",
    "df_wfh_data = df_wfh_data.fillna(df_wfh_data.median())"
   ]
  },
  {
   "cell_type": "code",
   "execution_count": 50,
   "id": "dcaedfa9",
   "metadata": {},
   "outputs": [],
   "source": [
    "# Drop NaN if there is still any\n",
    "df_wfh_data = df_wfh_data.dropna()"
   ]
  },
  {
   "cell_type": "code",
   "execution_count": 51,
   "id": "1f6ac164",
   "metadata": {},
   "outputs": [],
   "source": [
    "# Split the data into features and target label\n",
    "features_raw = df_wfh_data.drop('WorkFromHome', axis = 1)\n",
    "target = df_wfh_data['WorkFromHome']"
   ]
  },
  {
   "cell_type": "code",
   "execution_count": 52,
   "id": "183cf81d",
   "metadata": {},
   "outputs": [],
   "source": [
    "features_final = pd.get_dummies(features_raw)"
   ]
  },
  {
   "cell_type": "code",
   "execution_count": 53,
   "id": "ec1cbb83",
   "metadata": {},
   "outputs": [],
   "source": [
    "# Split the 'features' and 'target' data into training and testing sets\n",
    "X_train, X_test, y_train, y_test = train_test_split(features_final, \n",
    "                                                    target, \n",
    "                                                    test_size = 0.2, \n",
    "                                                    random_state = 5)"
   ]
  },
  {
   "cell_type": "markdown",
   "id": "e765d749",
   "metadata": {},
   "source": [
    "### Model/Analyze Data for Question 3\n",
    "Two machine learning models are trained: Decision tree and Logistic Regression. Training accuracy and testing accuracy are used as metric to assess the two models."
   ]
  },
  {
   "cell_type": "code",
   "execution_count": 55,
   "id": "7d7a4e82",
   "metadata": {},
   "outputs": [],
   "source": [
    "def train_predict(learner, X_train, y_train, X_test, y_test): \n",
    "    '''\n",
    "    inputs:\n",
    "       - learner: the learning algorithm to be trained and predicted on\n",
    "       - X_train: features training set\n",
    "       - y_train: income training set\n",
    "       - X_test: features testing set\n",
    "       - y_test: income testing set\n",
    "    '''\n",
    "    \n",
    "    results = {}\n",
    "    \n",
    "    learner = learner.fit(X_train, y_train)\n",
    "    predictions_test = learner.predict(X_test)\n",
    "    predictions_train = learner.predict(X_train[:300])\n",
    "    \n",
    "    # Compute accuracy on the first 300 training samples which is y_train[:300]\n",
    "    results['acc_train'] = accuracy_score(y_train[:300], predictions_train)\n",
    "        \n",
    "    # Compute accuracy on test set using accuracy_score()\n",
    "    results['acc_test'] = accuracy_score(y_test, predictions_test)\n",
    "        \n",
    "    # Return the results\n",
    "    return results"
   ]
  },
  {
   "cell_type": "code",
   "execution_count": 56,
   "id": "16ad5307",
   "metadata": {},
   "outputs": [
    {
     "data": {
      "text/plain": [
       "{'acc_train': 0.9166666666666666, 'acc_test': 0.6992914812984017}"
      ]
     },
     "execution_count": 56,
     "metadata": {},
     "output_type": "execute_result"
    }
   ],
   "source": [
    "dt_model = tree.DecisionTreeClassifier(random_state=0)\n",
    "train_predict(dt_model, X_train, y_train, X_test, y_test)"
   ]
  },
  {
   "cell_type": "code",
   "execution_count": 57,
   "id": "4f80974a",
   "metadata": {},
   "outputs": [
    {
     "name": "stderr",
     "output_type": "stream",
     "text": [
      "C:\\Users\\satkari\\Anaconda3\\lib\\site-packages\\sklearn\\linear_model\\_logistic.py:763: ConvergenceWarning: lbfgs failed to converge (status=1):\n",
      "STOP: TOTAL NO. of ITERATIONS REACHED LIMIT.\n",
      "\n",
      "Increase the number of iterations (max_iter) or scale the data as shown in:\n",
      "    https://scikit-learn.org/stable/modules/preprocessing.html\n",
      "Please also refer to the documentation for alternative solver options:\n",
      "    https://scikit-learn.org/stable/modules/linear_model.html#logistic-regression\n",
      "  n_iter_i = _check_optimize_result(\n"
     ]
    },
    {
     "data": {
      "text/plain": [
       "{'acc_train': 0.7533333333333333, 'acc_test': 0.7701433514582303}"
      ]
     },
     "execution_count": 57,
     "metadata": {},
     "output_type": "execute_result"
    }
   ],
   "source": [
    "lg_model = LogisticRegression(random_state=0)\n",
    "train_predict(lg_model, X_train, y_train, X_test, y_test)"
   ]
  },
  {
   "cell_type": "markdown",
   "id": "3cc40d55",
   "metadata": {},
   "source": [
    "### Visualize Results for Question 3\n",
    "The coefficients of the Logistic Regress model are printed out and exported to an Excel spreadsheet to help interpreting the model.\n",
    "\n",
    "coefficients = pd.concat([pd.DataFrame({'Feature': features_final.columns}),"
   ]
  },
  {
   "cell_type": "code",
   "execution_count": 59,
   "id": "2d69cc47",
   "metadata": {},
   "outputs": [],
   "source": [
    "coefficients = pd.concat([pd.DataFrame({'Feature': features_final.columns}),\n",
    "                          pd.DataFrame(np.transpose(lg_model.coef_))], axis = 1)"
   ]
  },
  {
   "cell_type": "code",
   "execution_count": 60,
   "id": "7de33f48",
   "metadata": {},
   "outputs": [],
   "source": [
    "coefficients.rename(columns={0:'Coeficient'}, inplace=True)"
   ]
  },
  {
   "cell_type": "code",
   "execution_count": 61,
   "id": "8e330208",
   "metadata": {},
   "outputs": [
    {
     "data": {
      "text/html": [
       "<div>\n",
       "<style scoped>\n",
       "    .dataframe tbody tr th:only-of-type {\n",
       "        vertical-align: middle;\n",
       "    }\n",
       "\n",
       "    .dataframe tbody tr th {\n",
       "        vertical-align: top;\n",
       "    }\n",
       "\n",
       "    .dataframe thead th {\n",
       "        text-align: right;\n",
       "    }\n",
       "</style>\n",
       "<table border=\"1\" class=\"dataframe\">\n",
       "  <thead>\n",
       "    <tr style=\"text-align: right;\">\n",
       "      <th></th>\n",
       "      <th>Feature</th>\n",
       "      <th>Coeficient</th>\n",
       "    </tr>\n",
       "  </thead>\n",
       "  <tbody>\n",
       "    <tr>\n",
       "      <th>15</th>\n",
       "      <td>Country_Iran</td>\n",
       "      <td>0.771019</td>\n",
       "    </tr>\n",
       "    <tr>\n",
       "      <th>20</th>\n",
       "      <td>Country_Pakistan</td>\n",
       "      <td>0.746711</td>\n",
       "    </tr>\n",
       "    <tr>\n",
       "      <th>28</th>\n",
       "      <td>Country_Ukraine</td>\n",
       "      <td>0.474070</td>\n",
       "    </tr>\n",
       "    <tr>\n",
       "      <th>41</th>\n",
       "      <td>EmploymentStatus_Employed part-time</td>\n",
       "      <td>0.454511</td>\n",
       "    </tr>\n",
       "    <tr>\n",
       "      <th>30</th>\n",
       "      <td>Country_United States</td>\n",
       "      <td>0.444856</td>\n",
       "    </tr>\n",
       "    <tr>\n",
       "      <th>11</th>\n",
       "      <td>Country_Czech Republic</td>\n",
       "      <td>0.429619</td>\n",
       "    </tr>\n",
       "    <tr>\n",
       "      <th>23</th>\n",
       "      <td>Country_Russian Federation</td>\n",
       "      <td>0.342758</td>\n",
       "    </tr>\n",
       "    <tr>\n",
       "      <th>14</th>\n",
       "      <td>Country_India</td>\n",
       "      <td>0.314291</td>\n",
       "    </tr>\n",
       "    <tr>\n",
       "      <th>33</th>\n",
       "      <td>CompanyType_Pre-series A startup</td>\n",
       "      <td>0.254631</td>\n",
       "    </tr>\n",
       "    <tr>\n",
       "      <th>31</th>\n",
       "      <td>CompanyType_Government agency or public school...</td>\n",
       "      <td>0.237883</td>\n",
       "    </tr>\n",
       "    <tr>\n",
       "      <th>18</th>\n",
       "      <td>Country_Mexico</td>\n",
       "      <td>0.227823</td>\n",
       "    </tr>\n",
       "    <tr>\n",
       "      <th>32</th>\n",
       "      <td>CompanyType_Non-profit/non-governmental organi...</td>\n",
       "      <td>0.147711</td>\n",
       "    </tr>\n",
       "    <tr>\n",
       "      <th>2</th>\n",
       "      <td>SeriousWork</td>\n",
       "      <td>0.143100</td>\n",
       "    </tr>\n",
       "    <tr>\n",
       "      <th>38</th>\n",
       "      <td>CompanyType_Venture-funded startup</td>\n",
       "      <td>0.055919</td>\n",
       "    </tr>\n",
       "    <tr>\n",
       "      <th>21</th>\n",
       "      <td>Country_Poland</td>\n",
       "      <td>0.038680</td>\n",
       "    </tr>\n",
       "    <tr>\n",
       "      <th>37</th>\n",
       "      <td>CompanyType_State-owned company</td>\n",
       "      <td>0.033971</td>\n",
       "    </tr>\n",
       "    <tr>\n",
       "      <th>35</th>\n",
       "      <td>CompanyType_Publicly-traded corporation</td>\n",
       "      <td>0.015689</td>\n",
       "    </tr>\n",
       "    <tr>\n",
       "      <th>3</th>\n",
       "      <td>HoursPerWeek</td>\n",
       "      <td>0.011059</td>\n",
       "    </tr>\n",
       "    <tr>\n",
       "      <th>4</th>\n",
       "      <td>DifficultCommunication</td>\n",
       "      <td>-0.011720</td>\n",
       "    </tr>\n",
       "    <tr>\n",
       "      <th>6</th>\n",
       "      <td>Country_Australia</td>\n",
       "      <td>-0.020054</td>\n",
       "    </tr>\n",
       "    <tr>\n",
       "      <th>16</th>\n",
       "      <td>Country_Israel</td>\n",
       "      <td>-0.021455</td>\n",
       "    </tr>\n",
       "    <tr>\n",
       "      <th>24</th>\n",
       "      <td>Country_South Africa</td>\n",
       "      <td>-0.035121</td>\n",
       "    </tr>\n",
       "    <tr>\n",
       "      <th>10</th>\n",
       "      <td>Country_Canada</td>\n",
       "      <td>-0.039884</td>\n",
       "    </tr>\n",
       "    <tr>\n",
       "      <th>1</th>\n",
       "      <td>JobSecurity</td>\n",
       "      <td>-0.054735</td>\n",
       "    </tr>\n",
       "    <tr>\n",
       "      <th>22</th>\n",
       "      <td>Country_Romania</td>\n",
       "      <td>-0.057958</td>\n",
       "    </tr>\n",
       "    <tr>\n",
       "      <th>0</th>\n",
       "      <td>CompanySize</td>\n",
       "      <td>-0.088033</td>\n",
       "    </tr>\n",
       "    <tr>\n",
       "      <th>36</th>\n",
       "      <td>CompanyType_Sole proprietorship or partnership...</td>\n",
       "      <td>-0.117659</td>\n",
       "    </tr>\n",
       "    <tr>\n",
       "      <th>29</th>\n",
       "      <td>Country_United Kingdom</td>\n",
       "      <td>-0.125883</td>\n",
       "    </tr>\n",
       "    <tr>\n",
       "      <th>8</th>\n",
       "      <td>Country_Belgium</td>\n",
       "      <td>-0.157270</td>\n",
       "    </tr>\n",
       "    <tr>\n",
       "      <th>34</th>\n",
       "      <td>CompanyType_Privately-held limited company, no...</td>\n",
       "      <td>-0.158012</td>\n",
       "    </tr>\n",
       "    <tr>\n",
       "      <th>9</th>\n",
       "      <td>Country_Brazil</td>\n",
       "      <td>-0.193992</td>\n",
       "    </tr>\n",
       "    <tr>\n",
       "      <th>40</th>\n",
       "      <td>EmploymentStatus_Employed full-time</td>\n",
       "      <td>-0.235164</td>\n",
       "    </tr>\n",
       "    <tr>\n",
       "      <th>39</th>\n",
       "      <td>CompanyType_other</td>\n",
       "      <td>-0.250786</td>\n",
       "    </tr>\n",
       "    <tr>\n",
       "      <th>12</th>\n",
       "      <td>Country_France</td>\n",
       "      <td>-0.256806</td>\n",
       "    </tr>\n",
       "    <tr>\n",
       "      <th>17</th>\n",
       "      <td>Country_Italy</td>\n",
       "      <td>-0.259392</td>\n",
       "    </tr>\n",
       "    <tr>\n",
       "      <th>25</th>\n",
       "      <td>Country_Spain</td>\n",
       "      <td>-0.280170</td>\n",
       "    </tr>\n",
       "    <tr>\n",
       "      <th>13</th>\n",
       "      <td>Country_Germany</td>\n",
       "      <td>-0.301389</td>\n",
       "    </tr>\n",
       "    <tr>\n",
       "      <th>19</th>\n",
       "      <td>Country_Netherlands</td>\n",
       "      <td>-0.375701</td>\n",
       "    </tr>\n",
       "    <tr>\n",
       "      <th>26</th>\n",
       "      <td>Country_Sweden</td>\n",
       "      <td>-0.420180</td>\n",
       "    </tr>\n",
       "    <tr>\n",
       "      <th>5</th>\n",
       "      <td>CollaborateRemote</td>\n",
       "      <td>-0.421800</td>\n",
       "    </tr>\n",
       "    <tr>\n",
       "      <th>27</th>\n",
       "      <td>Country_Switzerland</td>\n",
       "      <td>-0.437892</td>\n",
       "    </tr>\n",
       "    <tr>\n",
       "      <th>7</th>\n",
       "      <td>Country_Austria</td>\n",
       "      <td>-0.587333</td>\n",
       "    </tr>\n",
       "  </tbody>\n",
       "</table>\n",
       "</div>"
      ],
      "text/plain": [
       "                                              Feature  Coeficient\n",
       "15                                       Country_Iran    0.771019\n",
       "20                                   Country_Pakistan    0.746711\n",
       "28                                    Country_Ukraine    0.474070\n",
       "41                EmploymentStatus_Employed part-time    0.454511\n",
       "30                              Country_United States    0.444856\n",
       "11                             Country_Czech Republic    0.429619\n",
       "23                         Country_Russian Federation    0.342758\n",
       "14                                      Country_India    0.314291\n",
       "33                   CompanyType_Pre-series A startup    0.254631\n",
       "31  CompanyType_Government agency or public school...    0.237883\n",
       "18                                     Country_Mexico    0.227823\n",
       "32  CompanyType_Non-profit/non-governmental organi...    0.147711\n",
       "2                                         SeriousWork    0.143100\n",
       "38                 CompanyType_Venture-funded startup    0.055919\n",
       "21                                     Country_Poland    0.038680\n",
       "37                    CompanyType_State-owned company    0.033971\n",
       "35            CompanyType_Publicly-traded corporation    0.015689\n",
       "3                                        HoursPerWeek    0.011059\n",
       "4                              DifficultCommunication   -0.011720\n",
       "6                                   Country_Australia   -0.020054\n",
       "16                                     Country_Israel   -0.021455\n",
       "24                               Country_South Africa   -0.035121\n",
       "10                                     Country_Canada   -0.039884\n",
       "1                                         JobSecurity   -0.054735\n",
       "22                                    Country_Romania   -0.057958\n",
       "0                                         CompanySize   -0.088033\n",
       "36  CompanyType_Sole proprietorship or partnership...   -0.117659\n",
       "29                             Country_United Kingdom   -0.125883\n",
       "8                                     Country_Belgium   -0.157270\n",
       "34  CompanyType_Privately-held limited company, no...   -0.158012\n",
       "9                                      Country_Brazil   -0.193992\n",
       "40                EmploymentStatus_Employed full-time   -0.235164\n",
       "39                                  CompanyType_other   -0.250786\n",
       "12                                     Country_France   -0.256806\n",
       "17                                      Country_Italy   -0.259392\n",
       "25                                      Country_Spain   -0.280170\n",
       "13                                    Country_Germany   -0.301389\n",
       "19                                Country_Netherlands   -0.375701\n",
       "26                                     Country_Sweden   -0.420180\n",
       "5                                   CollaborateRemote   -0.421800\n",
       "27                                Country_Switzerland   -0.437892\n",
       "7                                     Country_Austria   -0.587333"
      ]
     },
     "execution_count": 61,
     "metadata": {},
     "output_type": "execute_result"
    }
   ],
   "source": [
    "coefficients.sort_values(by=['Coeficient'], ascending=False)"
   ]
  },
  {
   "cell_type": "code",
   "execution_count": 62,
   "id": "c8a636e8",
   "metadata": {},
   "outputs": [],
   "source": [
    "sorted_coeff = coefficients.sort_values(by=['Coeficient'], ascending=False)"
   ]
  },
  {
   "cell_type": "code",
   "execution_count": 63,
   "id": "b0062e97",
   "metadata": {},
   "outputs": [],
   "source": [
    "# Save the coefficents to a spreadsheet\n",
    "writer = pd.ExcelWriter('output.xlsx')\n",
    "sorted_coeff.to_excel(writer,'Sheet1')\n",
    "writer.save()"
   ]
  },
  {
   "cell_type": "markdown",
   "id": "198d4964",
   "metadata": {},
   "source": [
    "### Conclusion for Question 3\n",
    "The logistic regression fits the data better than the decision tree model, considering both training errors and testing errors. From the coefficients of the logistic regression model, it can be seen that these factors tend to lead to a work from home job:\n",
    "\n",
    "Jobs in Iran, Pakistan, Ukraine, etc.\n",
    "Part-time developers\n",
    "Pre-series A startup companies\n",
    "Developers who are more serious about work"
   ]
  }
 ],
 "metadata": {
  "kernelspec": {
   "display_name": "Python 3",
   "language": "python",
   "name": "python3"
  },
  "language_info": {
   "codemirror_mode": {
    "name": "ipython",
    "version": 3
   },
   "file_extension": ".py",
   "mimetype": "text/x-python",
   "name": "python",
   "nbconvert_exporter": "python",
   "pygments_lexer": "ipython3",
   "version": "3.8.8"
  }
 },
 "nbformat": 4,
 "nbformat_minor": 5
}
